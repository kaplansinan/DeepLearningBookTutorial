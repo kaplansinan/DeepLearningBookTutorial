{
 "cells": [
  {
   "cell_type": "markdown",
   "metadata": {},
   "source": [
    "### CNN Introduction"
   ]
  },
  {
   "cell_type": "markdown",
   "metadata": {},
   "source": [
    "### 1. The convolution operation\n",
    "\n",
    "The convolution operation enables CNNs to learn local patters over feature space by applying convolution operation.\n",
    "The below figure for instance shows how the local paatterns learnt over the digit. \n",
    "\n",
    "<img src=\"fig/conv_operation.png\" width=200 height=200 />"
   ]
  },
  {
   "cell_type": "markdown",
   "metadata": {},
   "source": [
    "The key charasterics of  of the convolution operation is given below:\n",
    "\n",
    "* it is translation invariant \n",
    "* it learns hierarchical patterns in an image. For instance, first layers learn basic image features like edges, corners adn so on. And the deeper layers learn more complex features. For instance, the below figure shows how to features are learnt over a given image. \n",
    "\n",
    "The convolution operation extracts patches from its input feature map and applies the same transformation to all of these patches, producing an output feature map. The feature map is called **filter**. \n"
   ]
  },
  {
   "cell_type": "markdown",
   "metadata": {},
   "source": [
    "Convolutions operate over 3D tensors, called **feature maps**, with two spatial axes **(height\n",
    "and width)** as well as a **depth** axis (also called the channels axis).\n",
    "\n",
    "Convolution is defined with two key parameters:\n",
    "    1. size of filters, \n",
    "    2. depth of feature map.\n",
    "    "
   ]
  },
  {
   "cell_type": "markdown",
   "metadata": {},
   "source": [
    "For instance in Keras we define convolution layer as follow:"
   ]
  },
  {
   "cell_type": "markdown",
   "metadata": {},
   "source": [
    "```\n",
    "tf.keras.layers.Conv2D(\n",
    "    filters, kernel_size, strides=(1, 1), padding='valid', data_format=None,\n",
    "    dilation_rate=(1, 1), activation=None, use_bias=True,\n",
    "    kernel_initializer='glorot_uniform', bias_initializer='zeros',\n",
    "    kernel_regularizer=None, bias_regularizer=None, activity_regularizer=None,\n",
    "    kernel_constraint=None, bias_constraint=None, **kwargs\n",
    ")\n",
    "```"
   ]
  },
  {
   "cell_type": "markdown",
   "metadata": {},
   "source": [
    "The below figure shows how the convolution operation works over input features by sliding window of filters.\n",
    "<img src=\"fig/how_conv.gif\" width=200 height=200 />"
   ]
  },
  {
   "cell_type": "markdown",
   "metadata": {},
   "source": [
    "Note that the output width and heightis different from the input width and height.This depends on two important factors in convolution operation and which are:\n",
    "* padding\n",
    "* strides\n"
   ]
  },
  {
   "cell_type": "markdown",
   "metadata": {},
   "source": [
    "#### 1.1 Padding and How it Works\n",
    "\n",
    "Consider the following problemd given by the figure below. For Consider a $5 × 5$ feature map, here are only 9 tiles around which you can center a $3 × 3$ kernel(filter) window, forming a $3 × 3$ grid (see figure 5.5). That mean the output feature map will be $3 x 3$ by shrinking two tiles alongside borh rows and columns. \n",
    "\n",
    "<img src=\"fig/pad_before.png\" width=500 height=500 />"
   ]
  },
  {
   "cell_type": "markdown",
   "metadata": {},
   "source": [
    "However, what if we would like to have an output map with same spatial size as an input's spatial size?\n",
    "Here, we apply padding to have same size output as the input size.\n",
    "\n",
    "**Padding** consists of adding an appropriate number of rows and columns on each side of the input feature map so as to make it possible to fit center convolution windows around every input tile. Now see the above figure with padding:\n",
    "<img src=\"fig/pad_after.png\" width=500 height=500 />\n"
   ]
  },
  {
   "cell_type": "markdown",
   "metadata": {},
   "source": [
    "At the code level, we have **padding** keyword to configure for padding option. It has two options given below:\n",
    "* \"valid\": means no padding \n",
    "* \"same\": means “pad in such a way as to have an output with the same width and height as the input.” \n",
    "\n",
    "The comparison can be seen on below figure clearly. \n",
    "<img src=\"fig/pad_same.png\" width=300 height=300 />"
   ]
  },
  {
   "cell_type": "markdown",
   "metadata": {},
   "source": [
    "#### 1.2 Stride and How it Works\n",
    " While sliding filters over feture maps, there is a distance between two successive windows of filter. This is a parameter and called **stride**. Consider below example,you can see the patches etracted by a 2× 2convolution with stride 2 over a 4× 4input (without padding) and with stride 1 (as default). \n",
    " \n",
    " <img src=\"fig/stride_sample.png\" width=300 height=300 />"
   ]
  },
  {
   "cell_type": "markdown",
   "metadata": {},
   "source": [
    "Using stride 2 means the width and height of the feature map are downsampled by a factor of 2. This can be done also by **max-pooling** explained below. "
   ]
  },
  {
   "cell_type": "markdown",
   "metadata": {},
   "source": [
    "#### 1.3 Max Pooling and How it works\n",
    "\n",
    "While applying convolutional layers, we often like to downsample the feature map. This can be achieved with max pooling operation which onsists of extracting windows from the input feature maps and outputting the max value of each channel. Max pooling is a crucial operation to keep hierarhical features and reduce number of parameters in convoutional layers. \n",
    "\n",
    "There is also **average pooling** to achieve downsampling task. However, given the fact that it’s more informative to look at the maximal presence of different features than at their average presence, the max pooling is prefered over average pooling. \n",
    "<img src=\"fig/max_pooling.png\" width=500 height=500 />"
   ]
  },
  {
   "cell_type": "markdown",
   "metadata": {},
   "source": [
    "An important property of pooling is that it makes feature maps **translation invariant**. This is actually an significant aspect of convolutional networks since it is not important to know where a particular feature of given image is. "
   ]
  },
  {
   "cell_type": "markdown",
   "metadata": {},
   "source": [
    "### 2. Typical Convolutional Layer Block\n",
    "\n",
    "Typical convolutional layer is defined as follow:\n",
    "* Convolutional stage: this is an affine tranformation\n",
    "* Detector stage: this is an stage where the nonlineratiy introduced by activation functions explained below. \n",
    "* Pooling layer: this is used for downsampling. \n",
    "* Normalization(optional): this is used in case of applying featue ormalization inside a convolutionl network itself.\n",
    "\n",
    "<img src=\"fig/conv_nets_layer.jpg\" width=500 height=500 />"
   ]
  },
  {
   "cell_type": "markdown",
   "metadata": {},
   "source": [
    "### 2.1 NonLinearity - Activation Functions"
   ]
  },
  {
   "cell_type": "markdown",
   "metadata": {},
   "source": [
    "Activation functions are used to introduce nonlinearity to convolutional layers. There are many activation functions proposed in the literature for deep learning models. Some of the most used ones are illustrated below:\n"
   ]
  },
  {
   "cell_type": "code",
   "execution_count": 1,
   "metadata": {},
   "outputs": [],
   "source": [
    "import numpy as np\n",
    "import matplotlib.pyplot as plt\n",
    "%matplotlib inline"
   ]
  },
  {
   "cell_type": "code",
   "execution_count": 2,
   "metadata": {},
   "outputs": [],
   "source": [
    "# data to visualize\n",
    "x = np.arange(-5, 5, 0.01)"
   ]
  },
  {
   "cell_type": "code",
   "execution_count": 3,
   "metadata": {},
   "outputs": [],
   "source": [
    "# Plot helper function\n",
    "def plot(func, yaxis=(-1.4, 1.4)):\n",
    "    plt.ylim(yaxis)\n",
    "    plt.locator_params(nbins=5)\n",
    "    plt.xticks(fontsize = 14)\n",
    "    plt.yticks(fontsize = 14)\n",
    "    plt.axhline(lw=1, c='black')\n",
    "    plt.axvline(lw=1, c='black')\n",
    "    plt.grid(alpha=0.4, ls='-.')\n",
    "    plt.box(on=None)\n",
    "    plt.plot(x, func(x), c='r', lw=3)"
   ]
  },
  {
   "cell_type": "markdown",
   "metadata": {},
   "source": [
    "#### Sigmoid \n",
    "$$\n",
    "f(x)={\\frac {1}{1+e^{-x}}}\n",
    "$$\n",
    "\n",
    "$$\n",
    "f'(x)=f(x)(1-f(x))\n",
    "$$"
   ]
  },
  {
   "cell_type": "code",
   "execution_count": 6,
   "metadata": {},
   "outputs": [],
   "source": [
    "def sigmoid(x):\n",
    "    return 1 / (1 + np.exp(-x))"
   ]
  },
  {
   "cell_type": "code",
   "execution_count": 7,
   "metadata": {},
   "outputs": [
    {
     "data": {
      "image/png": "[encoded data removed]",
      "text/plain": [
       "<Figure size 432x288 with 1 Axes>"
      ]
     },
     "metadata": {
      "needs_background": "light"
     },
     "output_type": "display_data"
    }
   ],
   "source": [
    "plot(sigmoid, yaxis=(-0.4, 1.4))"
   ]
  },
  {
   "cell_type": "markdown",
   "metadata": {},
   "source": [
    "#### Hyperbolic Tangent\n",
    "\n",
    "$$\n",
    "f(x)={\\frac {2}{1+e^{-2x}}}-1\n",
    "$$\n",
    "\n",
    "$$\n",
    "f'(x)=1-f(x)^2\n",
    "$$"
   ]
  },
  {
   "cell_type": "code",
   "execution_count": 8,
   "metadata": {},
   "outputs": [],
   "source": [
    "def tanh(x):\n",
    "    return 2 / (1 + np.exp(-2 * x)) -1"
   ]
  },
  {
   "cell_type": "code",
   "execution_count": 9,
   "metadata": {},
   "outputs": [
    {
     "data": {
      "image/png": "[encoded data removed]",
      "text/plain": [
       "<Figure size 432x288 with 1 Axes>"
      ]
     },
     "metadata": {
      "needs_background": "light"
     },
     "output_type": "display_data"
    }
   ],
   "source": [
    "plot(tanh)"
   ]
  },
  {
   "cell_type": "markdown",
   "metadata": {},
   "source": [
    "#### Rectified Linear Units, ReLU\n",
    "\n",
    "$$\n",
    "f(x) = \\left\\{\n",
    "        \\begin{array}{lll}\n",
    "            0 & for & x \\leq 0  \\\\\n",
    "            x & for & x > 0\n",
    "        \\end{array}\n",
    "    \\right.\n",
    "$$\n",
    "\n",
    "\n",
    "$$\n",
    "f'(x) = \\left\\{\n",
    "        \\begin{array}{lll}\n",
    "            0 & for & x \\leq 0  \\\\\n",
    "            1 & for & x > 0\n",
    "        \\end{array}\n",
    "    \\right.\n",
    "$$"
   ]
  },
  {
   "cell_type": "code",
   "execution_count": 10,
   "metadata": {},
   "outputs": [],
   "source": [
    "relu = np.vectorize(lambda x: x if x > 0 else 0, otypes=[np.float])"
   ]
  },
  {
   "cell_type": "code",
   "execution_count": 11,
   "metadata": {},
   "outputs": [
    {
     "data": {
      "image/png": "[encoded data removed]",
      "text/plain": [
       "<Figure size 432x288 with 1 Axes>"
      ]
     },
     "metadata": {
      "needs_background": "light"
     },
     "output_type": "display_data"
    }
   ],
   "source": [
    "plot(relu, yaxis=(-0.4, 1.4))"
   ]
  },
  {
   "cell_type": "markdown",
   "metadata": {},
   "source": [
    "#### Leaky Rectified Linear Units, Leaky ReLU\n",
    "\n",
    "$$\n",
    "f(x) = \\left\\{\n",
    "        \\begin{array}{lll}\n",
    "            ax & for & x \\leq 0  \\\\\n",
    "            x & for & x > 0\n",
    "        \\end{array}\n",
    "    \\right.\n",
    "$$\n",
    "\n",
    "$$\n",
    "f'(x) = \\left\\{\n",
    "        \\begin{array}{lll}\n",
    "            a & for & x \\leq 0  \\\\\n",
    "            1 & for & x > 0\n",
    "        \\end{array}\n",
    "    \\right.\n",
    "$$"
   ]
  },
  {
   "cell_type": "code",
   "execution_count": 12,
   "metadata": {},
   "outputs": [],
   "source": [
    "leaky_relu = np.vectorize(lambda x: max(0.1 * x, x), otypes=[np.float])"
   ]
  },
  {
   "cell_type": "code",
   "execution_count": 13,
   "metadata": {},
   "outputs": [
    {
     "data": {
      "image/png": "[encoded data removed]",
      "text/plain": [
       "<Figure size 432x288 with 1 Axes>"
      ]
     },
     "metadata": {
      "needs_background": "light"
     },
     "output_type": "display_data"
    }
   ],
   "source": [
    "plot(leaky_relu)"
   ]
  },
  {
   "cell_type": "markdown",
   "metadata": {},
   "source": [
    "####  Exponential Linear Units, ELU\n",
    "\n",
    "$$\n",
    "f(x) = \\left\\{\n",
    "        \\begin{array}{lll}\n",
    "            a(e^x-1) & for & x \\leq 0  \\\\\n",
    "            x & for & x > 0\n",
    "        \\end{array}\n",
    "    \\right.\n",
    "$$\n",
    "\n",
    "$$\n",
    "f'(x) = \\left\\{\n",
    "        \\begin{array}{lll}\n",
    "            f(x)+a & for & x \\leq 0  \\\\\n",
    "            1 & for & x > 0\n",
    "        \\end{array}\n",
    "    \\right.\n",
    "$$"
   ]
  },
  {
   "cell_type": "code",
   "execution_count": 14,
   "metadata": {},
   "outputs": [],
   "source": [
    "elu = np.vectorize(lambda x: x if x > 0 else 0.5 * (np.exp(x) - 1), otypes=[np.float])"
   ]
  },
  {
   "cell_type": "code",
   "execution_count": 15,
   "metadata": {
    "scrolled": true
   },
   "outputs": [
    {
     "data": {
      "image/png": "[encoded data removed]",
      "text/plain": [
       "<Figure size 432x288 with 1 Axes>"
      ]
     },
     "metadata": {
      "needs_background": "light"
     },
     "output_type": "display_data"
    }
   ],
   "source": [
    "plot(elu)"
   ]
  },
  {
   "cell_type": "markdown",
   "metadata": {},
   "source": [
    "#### Softmax\n"
   ]
  },
  {
   "cell_type": "code",
   "execution_count": 24,
   "metadata": {},
   "outputs": [],
   "source": [
    "def softmax(inputs):\n",
    "     return np.exp(inputs) / float(sum(np.exp(inputs)))"
   ]
  },
  {
   "cell_type": "code",
   "execution_count": 27,
   "metadata": {},
   "outputs": [
    {
     "data": {
      "image/png": "[encoded data removed]",
      "text/plain": [
       "<Figure size 432x288 with 1 Axes>"
      ]
     },
     "metadata": {
      "needs_background": "light"
     },
     "output_type": "display_data"
    }
   ],
   "source": [
    "x=np.arange(-5.0,20.0,2)\n",
    "plot(softmax)"
   ]
  },
  {
   "cell_type": "markdown",
   "metadata": {},
   "source": [
    "In addition to above functions, there are also  recently introduced activation functions which are worth to mention here as below:\n",
    "* Selu\n",
    "* Swish\n",
    "* Softplus\n",
    "\n"
   ]
  },
  {
   "cell_type": "markdown",
   "metadata": {},
   "source": [
    "### 3. Advanced Convolution Operations\n",
    "[TODO]\n",
    "    * sparse connectivity\n",
    "    * tiled convolutions\n",
    "    * dense module\n",
    "    * Depthwise-seperable conv layer\n",
    "    * bathc normalization\n",
    "#####  Inception Module\n",
    " \n",
    "The module takes its name from the movie called Inception(\"We Need to Go Deeper\"). It consists of parallel paths to extract features. Each path extracts features with different filters (what differs is the size of kernels). In essence, they are able to capture the details at different extents. It has used in a popular network won ImageNet competition, GoogleNet. Since then, it is a widely used CNN module in DL.\n",
    "\n",
    "<img src=\"fig/inception.svg\" width=500 height=500 />\n",
    "\n",
    "###### Residual Module\n",
    "\n",
    "The residual block has two 3×3 convolutional layers with the same number of output channels. Each convolutional layer is followed by a batch normalization layer and a ReLU activation function. Then, we skip these two convolution operations and add the input directly before the final ReLU activation function. This kind of design requires that the output of the two convolutional layers be of the same shape as the input, so that they can be added together. If we want to change the number of channels or the stride, we need to introduce an additional 1×1 convolutional layer to transform the input into the desired shape for the addition operation. \" ResNet consists of residual modules and won ImageNet chanllenge.\n",
    "\n",
    "Residual blocks allows the flow of memory (or information) from initial layers to last layers. Connections help in handling Vanishing gradient problem in very deep networks. In below Figure, the diagram on the left shows a standard CNN module, while the one on the right demonstrates a simple residual block\n",
    "\n",
    "<img src=\"fig/residual-block.svg\" width=500 height=500 />.\n",
    "\n",
    "##### Dense Block \n",
    "\n",
    "A dense block is a group of layers connected to all their previous layers. A single layer is constructed by:\n",
    "\n",
    "* Batch Normalization\n",
    "* ReLU activation\n",
    "* 3x3 Convolution\n",
    "\n",
    "Below figure demonstrates the dense block connection in DenseNet architecture.\n",
    "<img src=\"fig/densenet.png\" width=500 height=300 />.\n"
   ]
  },
  {
   "cell_type": "markdown",
   "metadata": {},
   "source": [
    "### 4.  Practical challenges and tips while working with cnns\n",
    "* While training try to use Early Stopping to avoid overfitting.\n",
    "* Learning Rate Finders and Learning Rate Schedulers are important.\n",
    "* Use augmentations from moderate to heavy ones. \n",
    "* Remember cleaning data is more important than tunning models. You will gain more in that way.\n",
    "* Try to find duplicate images and remove them.\n",
    "* In case of imbalanced dataset, apply class-aware sampling. \n",
    "* Creating a good validation set is crucial.\n",
    "* Ensemble learning is a powerful technique to learn/take advantage from/of multiple models.\n",
    "* Augmentation scheduling is a way to make a model more robust. \n",
    "* Make a habit to monitor models carefully. One can use mlflow for that purpose. \n",
    "* Kernel regularizer and BatchNormalization should be applied. \n",
    "* While using Keras, try to use Sequence Module to create a data generator. \n",
    "\n",
    "\n"
   ]
  }
 ],
 "metadata": {
  "kernelspec": {
   "display_name": "Python 3.6.10 64-bit",
   "language": "python",
   "name": "python361064bit44046df9ee9f4b6794be314555d2632c"
  }
 },
 "nbformat": 4,
 "nbformat_minor": 2
}
