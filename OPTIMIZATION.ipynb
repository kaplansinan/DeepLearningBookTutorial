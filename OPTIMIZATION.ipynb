{
 "cells": [
  {
   "cell_type": "markdown",
   "metadata": {},
   "source": [
    "### Latex symbol\n",
    "\n",
    "http://www.rpi.edu/dept/arc/training/latex/LaTeX_symbols.pdf"
   ]
  },
  {
   "cell_type": "markdown",
   "metadata": {},
   "source": [
    "## OPTIMIZATION FOR TRAINING DEEP LEARNING\n"
   ]
  },
  {
   "cell_type": "markdown",
   "metadata": {},
   "source": [
    "\n",
    "Optimization in deep learning involves finding set of parameters $\\theta$ for a model to reduce a cost function $J(\\theta)$. Before diving into the details of different optimization methods used in deep learning, it would be better to understand why the optimization is needed at the first hand, what kind of challenges exist there. \n",
    "\n",
    "To begin with, we define a general cost function to be optimized as follows:\n",
    "\n",
    "$$\\color{orange}{\\mathbb{E}_{(x,y) \\sim\\hat{p}_{data}} L(f(x;\\theta),y)\\tag{1}}$$\n",
    "\n",
    "where $L$ is the loss function, $f(x;\\theta)$ is the predicted output given input $x$, and $\\hat{p}_{data}$ is the empirical distribution. \n",
    "\n",
    "As the goal of deep learning models is to reduce the expected generalization error given by above equation, we can minimize the expected loss on the training set. This has to be done on training set since the true distribution of the data is unknown. \n",
    "\n",
    "$$\\color{orange}{\\mathbb{E}_{(x,y) \\sim\\hat{p}_{data}} L(f(x;\\theta),y) = \\frac{1}{m}\\sum^m_{i=1}L(f(x^{(i)};\\theta),y^{(i)})\\label{eq:error_minimize} \\tag{2}}$$\n",
    "\n",
    "where $m$ is the number of training examples. \n",
    "\n",
    "The nature of the cost/objective function given in  equation $\\eqref{eq:error_minimize}$ is important for optimization task. In some optimizations problems, the objective-function is just too complicated to evaluate directly at every iteration, and in this case, we use surrogate functions, functions that mimic most of the properties of the true objective-function, but that is much simpler analytically and/or computationally.\n"
   ]
  },
  {
   "cell_type": "markdown",
   "metadata": {},
   "source": [
    "### 1. Surrogate Loss Functions\n",
    "\n",
    "The main tool used by researchers to produce the result in machine learning is the optimization of the loss function (or sometimes quality function). However, the nature or the experiment being modeled doesn't always allows us to construct the loss function conveniently, for example as  {0,1}  for fail/success respectively. Instead if this, the surrogate models are used. The underlying principle can be formulated as follows: make the result computationally convenient without losing the sense.\n",
    "\n",
    "Ideally, your loss function should be the true loss, in real life. In a business, your true loss function is: -profit over the lifetime of the business. A lot of time it's difficult to measure the true loss, so your loss function should be a \"surrogate\" (approximation) of the true loss.\n",
    "\n",
    "For instance, below figure illustrates some loss function including $0-1$ loss. We may take an example of the Hinge loss plotted in the figure for a positive example. One useful property\n",
    "of hinge loss is that it is an upper bound on 0–1 loss; this is a useful property for a surrogate loss function, since it means that if you make the hinge loss small, you have  also made 0–1 loss small. \n",
    "\n",
    "<a href=\"https://www.cs.toronto.edu/~rgrosse/courses/csc321_2018/readings/L04%20Training%20a%20Classifier.pdf\"><img src=\"fig/loss_functions.png\" width=300 height=300 /></a>\n",
    "\n"
   ]
  },
  {
   "cell_type": "markdown",
   "metadata": {},
   "source": [
    "It is important to note that  a machine learning algorithm usually minimizes\n",
    "a surrogate loss function but halts when a convergence criterion based on **early\n",
    "stopping** is satisfied. Typically the early stopping criterion is based\n",
    "on the true underlying loss function, such as 0-1 loss measured on a validation set,\n",
    "and is designed to cause the algorithm to halt whenever overfitting begins to occur.\n",
    "Training often halts while the surrogate loss function still has large derivatives,\n",
    "which is very different from the pure optimization setting, where an optimization\n",
    "algorithm is considered to have converged when the gradient becomes very small."
   ]
  },
  {
   "cell_type": "markdown",
   "metadata": {},
   "source": [
    "### 2. Batch and Minibatch Algorithms\n",
    "\n",
    "The optimization algorithms compute gradient each update using only subset of training set. The gradient and the optimization algorithms are explained in details at later sections of this notebook.\n",
    "\n",
    "The optimization algorithms are sorted into three categories given below:\n",
    "\n",
    "* Batch Algorithms: These are the algorithms that use entire training set for gradient update. They are also called deterministic gradient methods. \n",
    "\n",
    "* Stochastic Algorithms: These are the methods that use a single example at a time to compute gradient. \n",
    "\n",
    "* Minibatch Stochastic Methods: These are the methods that use more than one sample but fewer than entire training set to compute gradient. \n",
    "\n",
    "The most commonly used methods in deep learning belong to minibatch stochoastic family. These type of methods require an optimally selected minibatch size to compute gradient accordingly. There are different factors to consider while choosing an optimal minibatch size which are: \n",
    "* Larger batches provide a more accurate estimate of gradient.\n",
    "* Multicore hardware architectures usually underutilized with small batches. \n",
    "* When using GPU, it is common to select power of 2 batch sizes for better runtime.\n",
    "* Small batches offer regularization effect. However, in this case it is crucial to choose small learning rate to maintain the stability which is affected by the high variance in the estimate of the gradient. Also, once should except the training time \n"
   ]
  },
  {
   "cell_type": "markdown",
   "metadata": {},
   "source": [
    "### 3. Challenges in Neural Network Optimization\n",
    "\n",
    "It is a fact that each optimization task brings challenges on the table in machine learning. The problems encountered mostly during optimization of any ML task can be seen in optimization of deep learning models too. These challenges are:\n",
    "\n",
    "* Ill conditioning\n",
    "* Local Minima\n",
    "* Plateues, Saddle Points and Other Flat Regions\n",
    "* Cliffs and Exploding Gradients\n",
    "* Inexact Gradients\n",
    "* Poor Correspondence between local and global structure\n",
    "[TODO] Expain them in details."
   ]
  },
  {
   "cell_type": "markdown",
   "metadata": {},
   "source": [
    "### 4. Optimization Algorithms\n"
   ]
  },
  {
   "cell_type": "markdown",
   "metadata": {},
   "source": [
    "#### 4.1 Intuitive Explanation  of Gradient"
   ]
  },
  {
   "cell_type": "markdown",
   "metadata": {},
   "source": [
    "The gradient is a significant term that plays an important role in how the deep learning models learn over time. All the optimization algorithms used in deep learning are based on **gradient descent**. As the name suggests, Gradient means “slope” & Descent means “to go down”. Gradient Descent follows the slope of the curve and descends(“goes down”) to those combination of parameters in the function which gives the minimum value.\n",
    "\n",
    "Intuitively speaking, let's consider a path of a river originating from top of a mountain as shown below picture. \n",
    "\n",
    "<img src=\"fig/river.JPG\" width=500 height=500 />\n"
   ]
  },
  {
   "cell_type": "markdown",
   "metadata": {},
   "source": [
    "The goal of gradient descent is exactly what the river strives to achieve - namely, reach the bottom most point (at the foothill) climbing down from the mountain.\n",
    "\n",
    "Now, if the terrain of the mountain is shaped in such a way that the river doesn't have to stop anywhere completely before arriving at its final destination (which is the lowest point at the foothill, then this is the ideal case we desire. In deep learning, this is equivalent to saying that the global minimum (or optimum) of the solution starting from the initial point (top of the hill) is reached.\n",
    "\n",
    "However, it could be that the nature of terrain forces several pits in the path of the river, which could force the river to get trapped and stagnate. In deep learning terms, such pits are termed as local minima solutions, which is not desirable. Luckily, we can get rid of this with different ways that are discussed in details further. \n",
    "\n",
    "Gradient Descent therefore is prone to be stuck in local minimum, depending on the nature of the terrain. But, when you have a special kind of mountain terrain (which is shaped like a bowl, in math terms this is called a Convex Function), the algorithm is always guaranteed to find the optimum.\n",
    "\n",
    "Also, depending on where at the top of the mountain you initial start from (ie. initial values of the function), you might end up following a different path. Similarly, depending on the speed at the river climbs down (ie. the learning rate or step size for the gradient descent algorithm), you might arrive at the final destination in a different manner. Both of these criteria can affect whether you fall into a pit (local minima) or are able to avoid it."
   ]
  },
  {
   "cell_type": "markdown",
   "metadata": {},
   "source": [
    "Now lets visualize a simple gradient descent algorithm and how it works. "
   ]
  },
  {
   "cell_type": "markdown",
   "metadata": {},
   "source": [
    "```\n",
    "for i in range(nb_epochs):\n",
    "  params_grad = evaluate_gradient(loss_function, data, params)\n",
    "  params = params - learning_rate * params_grad\n",
    "```"
   ]
  },
  {
   "cell_type": "code",
   "execution_count": 22,
   "metadata": {},
   "outputs": [],
   "source": [
    "\"\"\"\n",
    "Given the starting point of any `x` gradient descent\n",
    "should be able to find the minimum value of x for the\n",
    "cost function `f` defined below.\n",
    "\"\"\"\n",
    "import random\n",
    "\n",
    "def f(x):\n",
    "    \"\"\"\n",
    "    Quadratic function.\n",
    "\n",
    "    It's easy to see the minimum value of the function\n",
    "    is 5 when is x=0.\n",
    "    \"\"\"\n",
    "    return x**2 + 5\n",
    "\n",
    "\n",
    "def df(x):\n",
    "    \"\"\"\n",
    "    Derivative of `f` with respect to `x`.\n",
    "    \"\"\"\n",
    "    return 2*x\n",
    "\n",
    "def gradient_descent_update(x, gradx, learning_rate):\n",
    "    \"\"\"\n",
    "    Performs a gradient descent update.\n",
    "    \"\"\"\n",
    "    # TODO: Implement gradient descent.\n",
    "    # x = x - learning_rate * gradient_of_x\n",
    "    x = x - (gradx * learning_rate)\n",
    "    \n",
    "    # Return the new value for x\n",
    "    return x\n",
    "\n",
    "# Random number between 0 and 10,000. Feel free to set x whatever you like.\n",
    "random.seed(123)\n",
    "x = random.randint(0, 10000)\n",
    "# TODO: Set the learning rate\n",
    "learning_rate = 0.1\n",
    "epochs = 100\n",
    "cost_list = []\n",
    "gradx_list = []\n",
    "for i in range(epochs+1):\n",
    "    cost = f(x)\n",
    "    gradx = df(x)\n",
    "    cost_list.append(cost)\n",
    "    gradx_list.append(gradx)\n",
    "    #print(\"EPOCH {}: Cost = {:.3f}, x = {:.3f}\".format(i, cost, gradx))\n",
    "    x = gradient_descent_update(x, gradx, learning_rate)"
   ]
  },
  {
   "cell_type": "code",
   "execution_count": 36,
   "metadata": {},
   "outputs": [
    {
     "data": {
      "text/plain": [
       "Text(0, 0.5, 'gradient')"
      ]
     },
     "execution_count": 36,
     "metadata": {},
     "output_type": "execute_result"
    },
    {
     "data": {
      "image/png": "[encoded data removed]",
      "text/plain": [
       "<Figure size 1080x360 with 2 Axes>"
      ]
     },
     "metadata": {
      "needs_background": "light"
     },
     "output_type": "display_data"
    }
   ],
   "source": [
    "# Lets visualize it\n",
    "# Create two subplots and unpack the output array immediately\n",
    "import matplotlib.pyplot as plt\n",
    "x = range(epochs+1)\n",
    "\n",
    "figure, axes = plt.subplots(nrows=1, ncols=2,figsize=(15,5))\n",
    "\n",
    "axes[0].plot(x, cost_list)\n",
    "axes[0].set_title(\"cost function\")\n",
    "axes[0].set_xlabel(\"epochs\")\n",
    "axes[0].set_ylabel(\"cost\")\n",
    "#create specific subplots\n",
    "\n",
    "axes[1].plot(x, gradx_list)\n",
    "axes[1].set_title(\"Gradient change\")\n",
    "axes[1].set_xlabel(\"epochs\")\n",
    "axes[1].set_ylabel(\"gradient\")\n",
    "\n",
    "\n",
    "#figure.tight_layout()\n",
    "\n"
   ]
  },
  {
   "cell_type": "markdown",
   "metadata": {},
   "source": [
    "The below figures illustrates a basic cost function and how it is updated by gradient over the epochs. As once can notice from the figure,  the cost is reduced whilst the gradient approaches to zero.  "
   ]
  },
  {
   "cell_type": "markdown",
   "metadata": {},
   "source": [
    "#### 4.2 Gradient Descent Algorithms"
   ]
  },
  {
   "cell_type": "markdown",
   "metadata": {},
   "source": [
    "There are three variants of gradient descent, which differ in how much data we use to compute the gradient of the objective function"
   ]
  },
  {
   "cell_type": "markdown",
   "metadata": {},
   "source": [
    "#### 4.2.1 Batch Gradient Descent \n",
    "\n",
    "This is a vanilla gradient descent and computes the gradient of the cost function w.r.t. to the parameters \n",
    "$\\theta$ for the entire training dataset:\n",
    "$$\\color{orange}{\\theta = \\theta - \\eta \\cdot \\nabla_\\theta J( \\theta)\\label{eq:batch_sgd}\\tag{3}}$$\n",
    "\n",
    "where $\\eta $ is ***learning rate***.\n",
    "\n",
    "In code level, we represent the equation  $\\eqref{eq:batch_sgd}$ as follows:\n",
    "\n",
    "```\n",
    "for i in range(nb_epochs):\n",
    "  params_grad = evaluate_gradient(loss_function, data, params)\n",
    "  params = params - learning_rate * params_grad\n",
    "```\n",
    "\n",
    "As we need to calculate the gradients for the whole dataset to perform just one update, batch gradient descent can be very slow and is intractable for datasets that don't fit in memory."
   ]
  },
  {
   "cell_type": "markdown",
   "metadata": {},
   "source": [
    "#### 4.2.2 Stochastic gradient descent\n",
    "\n",
    "In contrast to batch gradient descent, stochastic gradient descent (SGD) updates  for each training example \n",
    "$x^{(i)}$ and label $y^{(i)}$:\n",
    "\n",
    "$$\\theta = \\theta - \\eta \\cdot \\nabla_\\theta J( \\theta; x^{(i)}; y^{(i)})$$\n",
    "\n",
    "SGD performs one update at a time. It is therefore usually much faster and can also be used to learn online.\n",
    "SGD performs frequent updates with a high variance that cause the objective function to fluctuate heavily"
   ]
  },
  {
   "cell_type": "markdown",
   "metadata": {},
   "source": [
    "```\n",
    "\n",
    "for i in range(nb_epochs):\n",
    "  # shuffle data for better convergence\n",
    "  np.random.shuffle(data)\n",
    "  for example in data:\n",
    "    params_grad = evaluate_gradient(loss_function, example, params)\n",
    "   params = params - learning_rate * params_grad\n",
    " ```"
   ]
  },
  {
   "cell_type": "markdown",
   "metadata": {},
   "source": [
    "#### 4.2.3 Minibatch gradient descent\n",
    "\n",
    "As it mentioned above, minibatch gradient descent performs an update for every mini-batch of \n",
    "$n$ training examples.\n",
    "\n",
    "$$\\theta = \\theta - \\eta \\cdot \\nabla_\\theta J( \\theta; x^{(i:i+n)}; y^{(i:i+n)})$$"
   ]
  },
  {
   "cell_type": "markdown",
   "metadata": {},
   "source": [
    "```\n",
    "\n",
    "for i in range(nb_epochs):\n",
    "  np.random.shuffle(data)\n",
    "  for batch in get_batches(data, batch_size=32):\n",
    "    params_grad = evaluate_gradient(loss_function, batch, params)\n",
    "    params = params - learning_rate * params_grad\n",
    "```"
   ]
  },
  {
   "cell_type": "markdown",
   "metadata": {},
   "source": [
    "#### 4.3 Gradient Descent Optimization Methods\n",
    "In this section, we will cover the optimization methods used for gradient descent algorithms to solve following issues:\n",
    "* Choosing a proper learning rate \n",
    "* Learning rate schedules for adjusting the learning rate during training\n",
    "* using same learning rate for all parameters update regardless of having sparse features\n",
    "\n",
    "[TODO] add more from the papers"
   ]
  },
  {
   "cell_type": "markdown",
   "metadata": {},
   "source": [
    "#### 4.3.1 Momentum\n",
    "SGD has trouble navigating ravines, i.e. areas where the surface curves much more steeply in one dimension than in another, which are common around local optima. This problem is solved by introducing momentum inspired from physics. \n",
    "Momentum helps accelerate SGD in the relevant direction and dampens oscillations.\n",
    "It does this by adding a fraction  $\\gamma$  of the update vector of the past time step to the current update vector:\n",
    "\n",
    "$$ \\begin{align} \n",
    "\\begin{split} \n",
    "v_t &= \\gamma v_{t-1} + \\eta \\nabla_\\theta J( \\theta) \\\\ \n",
    "\\theta &= \\theta - v_t \n",
    "\\end{split} \n",
    "\\end{align}\n",
    "$$"
   ]
  },
  {
   "cell_type": "markdown",
   "metadata": {},
   "source": [
    "The momentum term \n",
    "$\\gamma$\n",
    " is usually set to 0.9 or a similar value."
   ]
  },
  {
   "cell_type": "markdown",
   "metadata": {},
   "source": [
    "Intuitively speaking, when using momentum, we push a ball down a hill. The ball accumulates momentum as it rolls downhill, becoming faster and faster on the way (until it reaches its terminal velocity if there is air resistance). Therefore during the parameter update,he momentum term increases for dimensions whose gradients point in the same directions and reduces updates for dimensions whose gradients change directions. As a result, we gain faster convergence and reduced oscillation."
   ]
  },
  {
   "cell_type": "markdown",
   "metadata": {},
   "source": [
    "#### 4.3.2 Nesterov accelerated gradient\n",
    "\n",
    "There is a problem when a ball that rolls down a hill, blindly following the slope. It would be wise to use a ball that has a notion of where it is going so that it knows to slow down before the hill slopes up again.\n",
    "\n",
    "Nesterov accelerated gradient (NAG)is a way to give our momentum term this kind of prescience. We know that we will use our momentum term $\\gamma v_{t-1}$ to move the parameters $\\theta$. Computing $\\theta - \\gamma v_{t-1}$\n",
    " thus gives us an approximation of the next position of the parameters (the gradient is missing for the full update), a rough idea where our parameters are going to be."
   ]
  },
  {
   "cell_type": "markdown",
   "metadata": {},
   "source": [
    "\\begin{align} \n",
    "\\begin{split} \n",
    "v_t &= \\gamma v_{t-1} + \\eta \\nabla_\\theta J( \\theta - \\gamma v_{t-1} ) \\\\ \n",
    "\\theta &= \\theta - v_t \n",
    "\\end{split} \n",
    "\\end{align}"
   ]
  },
  {
   "cell_type": "markdown",
   "metadata": {},
   "source": [
    "The aforementioned techniques are to adapt our updates to the slope of our error function and speed up SGD in turn."
   ]
  },
  {
   "cell_type": "markdown",
   "metadata": {},
   "source": [
    "#### 4.4 Algorithms with Adaptive Learning Rate\n",
    "\n",
    "In this section we will cover the algorithms used for adaptive learning rate.\n",
    "\n",
    "\n",
    "#### 4.4.1 AdaGrad\n",
    "AdaGrad adapts the learning rate in such a way that it performs smaller updates (low learning rates) for parameters associated with frequently occurring features, and larger updates (high learning rates) for parameters associated with infrequent features. For this reason, it is well-suited for dealing with sparse data. The algorithm to perform learning rate update is shown below.\n",
    "\n",
    "<img src=\"fig/adagrad.png\" width=500 height=500 />"
   ]
  },
  {
   "cell_type": "markdown",
   "metadata": {},
   "source": [
    "#### 4.4.2 RMSProp\n",
    "\n",
    "RMSprop is an another wildely used adaptive learning rate method.It tries to resolve Adagrad's radically diminishing learning rates.\n",
    "\n",
    "<img src=\"fig/rmsprop.png\" width=500 height=500 />"
   ]
  },
  {
   "cell_type": "markdown",
   "metadata": {},
   "source": [
    "#### 4.4.3 Adam\n",
    "Adaptive Moment Estimation (Adam) is another method for adaptive learning rates for each parameter. Adam behaves like a heavy ball with friction, which thus prefers flat minima in the error surface.  Adam works well in practice and compares favorably to other adaptive learning-method algorithms.\n",
    "\n",
    "<img src=\"fig/adam.png\" width=500 height=500 />"
   ]
  },
  {
   "cell_type": "markdown",
   "metadata": {},
   "source": [
    "In addition to aforementioned optimization algorithms for gradient update, there is also few other algorithms used in a same manner. Which are: \n",
    "* Adadelta\n",
    "* AdaMax\n",
    "* Nadam\n",
    "* AMSGrad\n",
    "* AdamW\n",
    "* QHAdam  \n",
    "* AggMo "
   ]
  },
  {
   "cell_type": "markdown",
   "metadata": {},
   "source": [
    "For comparison of each optimization methods mentioned above, please check [this blog](https://johnchenresearch.github.io/demon/)."
   ]
  },
  {
   "cell_type": "markdown",
   "metadata": {},
   "source": [
    "### Choosing Right Optimization\n",
    "\n",
    "Unfortunately there is no rule of thumb here about how to choose the best optimization methods.  Currently, the most popular optimization algorithms actively in use include SGD, SGD with momentum, RMSProp, RMSProp with momentum, AdaDelta and Adam.While training neural nets, it is a trial and error process to find out right optimization methods for a particular task. \n",
    "\n",
    "Refer to [this notebook](#https://nbviewer.jupyter.org/github/ilguyi/optimizers.numpy/blob/master/optimizer.tf.all.opt.plot.ipynb) for a behavior of each optimization methods. \n"
   ]
  },
  {
   "cell_type": "markdown",
   "metadata": {},
   "source": [
    "#### Parameter Initialization Strategies\n",
    "The parameter initialization step can be critical to the model’s ultimate performance, and it requires the right method. There are two way that we can initialize parameters. However, each of them brings issues together. \n",
    "\n",
    "1. Zero Initialization: All weights are initialized with value of zero. That one causes a serious issue which is that If all the weights are initialized with 0, the derivative with respect to loss function is the same for every weight, thus all weights have the same value in subsequent iterations.\n",
    "\n",
    "\n",
    "2. Random Initialization: The parameters (weights) are initialized with random numbers in this approach. However, it has following issues: \n",
    "\n",
    "    * If weights are initialized with very high values the term **np.dot(W,X)+b** becomes significantly higher and if an activation function like sigmoid() is applied, the function maps its value near to 1 where the slope of gradient changes slowly and learning takes a lot of time. Exploding gradients — This is the exact opposite of vanishing gradients. \n",
    "    * If weights are initialized with low values it gets mapped to 0, where the case is the same as above. This problem is often referred to as vanishing gradient.\n",
    "    \n",
    "To solve the problems associated with above mentioned approaches, there exists new methods to initialize parameters. The mostly used methods are  He initialization, Xavier initialization. Refer to [deeplearning.ai](https://www.deeplearning.ai/ai-notes/initialization/) blog for comprehensive comparison."
   ]
  }
 ],
 "metadata": {
  "kernelspec": {
   "display_name": "Python 3.6.10 64-bit",
   "language": "python",
   "name": "python361064bit44046df9ee9f4b6794be314555d2632c"
  }
 },
 "nbformat": 4,
 "nbformat_minor": 2
}
