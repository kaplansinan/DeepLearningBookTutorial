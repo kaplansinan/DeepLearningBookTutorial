{
 "cells": [
  {
   "cell_type": "markdown",
   "metadata": {},
   "source": [
    "## DATA AUGMENTATIONS\n",
    "\n",
    "Data augmentation is mostly used as regularizer and to make model more robust noise and different inputs. In other words, performing data augmentation for deep learning models is known to be important for training visual recognition systems. By artificially increasing the number of training examples, it helps reducing overfitting and improves generalization.\n",
    "\n",
    "The following resources can be explored further to understand the importance of data augmentation for deep learning models. \n",
    "\n",
    "* [A survey on Image Data Augmentation for Deep Learning](https://journalofbigdata.springeropen.com/articles/10.1186/s40537-019-0197-0)\n",
    "* [Data augmentation with Möbius transformations](https://arxiv.org/abs/2002.02917)\n",
    "* [FixMatch: Simplifying Semi-Supervised Learning with Consistency and Confidence](https://arxiv.org/abs/2001.07685)\n",
    "* [RandAugment: Practical automated data augmentation with a reduced search space](https://arxiv.org/abs/1909.13719)\n",
    "* [Learning Data Augmentation Strategies for Object Detection](https://arxiv.org/abs/1906.11172)"
   ]
  },
  {
   "cell_type": "markdown",
   "metadata": {},
   "source": [
    "While implementing a training pipeline in Keras, there is a library that can be used to automate most of the  data augmentation strategies together. The library is called **albumentations** and white is given at following link:\n",
    "\n",
    "* [Albumentations: fast and flexible image augmentations](https://arxiv.org/abs/1809.06839)\n",
    "\n",
    "and the code repository with instructions can be accessed [here](https://albumentations.readthedocs.io/en/latest/)"
   ]
  },
  {
   "cell_type": "markdown",
   "metadata": {},
   "source": [
    "One can also explore different augmentations strategies via following website embedded into this notebook."
   ]
  },
  {
   "cell_type": "code",
   "execution_count": 1,
   "metadata": {},
   "outputs": [
    {
     "data": {
      "text/html": [
       "\n",
       "        <iframe\n",
       "            width=\"1200\"\n",
       "            height=\"1200\"\n",
       "            src=\"https://albumentations-demo.herokuapp.com/\"\n",
       "            frameborder=\"0\"\n",
       "            allowfullscreen\n",
       "        ></iframe>\n",
       "        "
      ],
      "text/plain": [
       "<IPython.lib.display.IFrame at 0x1c30a3302e8>"
      ]
     },
     "execution_count": 1,
     "metadata": {},
     "output_type": "execute_result"
    }
   ],
   "source": [
    "# Display the associated webpage in a new window\n",
    "import IPython\n",
    "url = 'https://albumentations-demo.herokuapp.com/'\n",
    "\n",
    "\n",
    "from IPython.display import IFrame\n",
    "\n",
    "IFrame(src=url, width=1200, height=1200)"
   ]
  },
  {
   "cell_type": "markdown",
   "metadata": {},
   "source": [
    "[TODO]\n",
    "* low, moderate, strong augmentation recommendations for image classification and object detection\n",
    "* tricks to keep in mind"
   ]
  }
 ],
 "metadata": {
  "kernelspec": {
   "display_name": "Python 3.6.10 64-bit",
   "language": "python",
   "name": "python361064bit44046df9ee9f4b6794be314555d2632c"
  }
 },
 "nbformat": 4,
 "nbformat_minor": 2
}
